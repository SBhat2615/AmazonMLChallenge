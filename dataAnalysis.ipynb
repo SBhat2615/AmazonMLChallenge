{
 "cells": [
  {
   "cell_type": "code",
   "execution_count": 1,
   "id": "3e470673",
   "metadata": {},
   "outputs": [],
   "source": [
    "import pandas as pd"
   ]
  },
  {
   "cell_type": "code",
   "execution_count": 2,
   "id": "3ef83238",
   "metadata": {},
   "outputs": [],
   "source": [
    "df = pd.read_csv('./dataset/train.csv')"
   ]
  },
  {
   "cell_type": "code",
   "execution_count": 4,
   "id": "10525205",
   "metadata": {
    "scrolled": true
   },
   "outputs": [
    {
     "data": {
      "text/html": [
       "<div>\n",
       "<style scoped>\n",
       "    .dataframe tbody tr th:only-of-type {\n",
       "        vertical-align: middle;\n",
       "    }\n",
       "\n",
       "    .dataframe tbody tr th {\n",
       "        vertical-align: top;\n",
       "    }\n",
       "\n",
       "    .dataframe thead th {\n",
       "        text-align: right;\n",
       "    }\n",
       "</style>\n",
       "<table border=\"1\" class=\"dataframe\">\n",
       "  <thead>\n",
       "    <tr style=\"text-align: right;\">\n",
       "      <th></th>\n",
       "      <th>PRODUCT_ID</th>\n",
       "      <th>TITLE</th>\n",
       "      <th>BULLET_POINTS</th>\n",
       "      <th>DESCRIPTION</th>\n",
       "      <th>PRODUCT_TYPE_ID</th>\n",
       "      <th>PRODUCT_LENGTH</th>\n",
       "    </tr>\n",
       "  </thead>\n",
       "  <tbody>\n",
       "    <tr>\n",
       "      <th>0</th>\n",
       "      <td>1925202</td>\n",
       "      <td>ArtzFolio Tulip Flowers Blackout Curtain for D...</td>\n",
       "      <td>[LUXURIOUS &amp; APPEALING: Beautiful custom-made ...</td>\n",
       "      <td>NaN</td>\n",
       "      <td>1650</td>\n",
       "      <td>2125.980000</td>\n",
       "    </tr>\n",
       "    <tr>\n",
       "      <th>1</th>\n",
       "      <td>2673191</td>\n",
       "      <td>Marks &amp; Spencer Girls' Pyjama Sets T86_2561C_N...</td>\n",
       "      <td>[Harry Potter Hedwig Pyjamas (6-16 Yrs),100% c...</td>\n",
       "      <td>NaN</td>\n",
       "      <td>2755</td>\n",
       "      <td>393.700000</td>\n",
       "    </tr>\n",
       "    <tr>\n",
       "      <th>2</th>\n",
       "      <td>2765088</td>\n",
       "      <td>PRIKNIK Horn Red Electric Air Horn Compressor ...</td>\n",
       "      <td>[Loud Dual Tone Trumpet Horn, Compatible With ...</td>\n",
       "      <td>Specifications: Color: Red, Material: Aluminiu...</td>\n",
       "      <td>7537</td>\n",
       "      <td>748.031495</td>\n",
       "    </tr>\n",
       "    <tr>\n",
       "      <th>3</th>\n",
       "      <td>1594019</td>\n",
       "      <td>ALISHAH Women's Cotton Ankle Length Leggings C...</td>\n",
       "      <td>[Made By 95%cotton and 5% Lycra which gives yo...</td>\n",
       "      <td>AISHAH Women's Lycra Cotton Ankel Leggings. Br...</td>\n",
       "      <td>2996</td>\n",
       "      <td>787.401574</td>\n",
       "    </tr>\n",
       "    <tr>\n",
       "      <th>4</th>\n",
       "      <td>283658</td>\n",
       "      <td>The United Empire Loyalists: A Chronicle of th...</td>\n",
       "      <td>NaN</td>\n",
       "      <td>NaN</td>\n",
       "      <td>6112</td>\n",
       "      <td>598.424000</td>\n",
       "    </tr>\n",
       "  </tbody>\n",
       "</table>\n",
       "</div>"
      ],
      "text/plain": [
       "   PRODUCT_ID                                              TITLE  \\\n",
       "0     1925202  ArtzFolio Tulip Flowers Blackout Curtain for D...   \n",
       "1     2673191  Marks & Spencer Girls' Pyjama Sets T86_2561C_N...   \n",
       "2     2765088  PRIKNIK Horn Red Electric Air Horn Compressor ...   \n",
       "3     1594019  ALISHAH Women's Cotton Ankle Length Leggings C...   \n",
       "4      283658  The United Empire Loyalists: A Chronicle of th...   \n",
       "\n",
       "                                       BULLET_POINTS  \\\n",
       "0  [LUXURIOUS & APPEALING: Beautiful custom-made ...   \n",
       "1  [Harry Potter Hedwig Pyjamas (6-16 Yrs),100% c...   \n",
       "2  [Loud Dual Tone Trumpet Horn, Compatible With ...   \n",
       "3  [Made By 95%cotton and 5% Lycra which gives yo...   \n",
       "4                                                NaN   \n",
       "\n",
       "                                         DESCRIPTION  PRODUCT_TYPE_ID  \\\n",
       "0                                                NaN             1650   \n",
       "1                                                NaN             2755   \n",
       "2  Specifications: Color: Red, Material: Aluminiu...             7537   \n",
       "3  AISHAH Women's Lycra Cotton Ankel Leggings. Br...             2996   \n",
       "4                                                NaN             6112   \n",
       "\n",
       "   PRODUCT_LENGTH  \n",
       "0     2125.980000  \n",
       "1      393.700000  \n",
       "2      748.031495  \n",
       "3      787.401574  \n",
       "4      598.424000  "
      ]
     },
     "execution_count": 4,
     "metadata": {},
     "output_type": "execute_result"
    }
   ],
   "source": [
    "df.head()"
   ]
  },
  {
   "cell_type": "code",
   "execution_count": 24,
   "id": "9b8d3aca",
   "metadata": {},
   "outputs": [
    {
     "name": "stdout",
     "output_type": "stream",
     "text": [
      "['ArtzFolio Tulip Flowers Blackout Curtain for Door, Window & Room ', ' Eyelets & Tie Back ', ' Canvas Fabric ', ' Width 4.5feet (54inch) Height 5 feet (60 inch); Set of 2 PCS']\n",
      "[\"Marks & Spencer Girls' Pyjama Sets T86_2561C_Navy Mix_9-10Y\"]\n",
      "['PRIKNIK Horn Red Electric Air Horn Compressor Interior Dual Tone Trumpet Loud Compatible with SX4']\n",
      "[\"ALISHAH Women's Cotton Ankle Length Leggings Combo of 2, Plus 12 Colors_L\"]\n",
      "['The United Empire Loyalists: A Chronicle of the Great Migration']\n",
      "['HINS Metal Bucket Shape Plant Pot for Indoor & Outdoor Gardening (Red, Medium) Plant Stands for Indoor Balcony I Plant Bench I Plant Stands I Pot Stand Single I Potted Plant Stand I Big Pots I Metal']\n",
      "['Ungifted: My Life and Journey']\n",
      "['Delavala Self Adhesive Kitchen Backsplash Wallpaper, Oil Proof Aluminum Foil Kitchen Sticker (Sliver 5(Mtr))']\n",
      "[\"PUMA Cali Sport Clean Women's Sneakers White Leather (37540701)\"]\n",
      "['Hexwell Essential oil for Home Fragrance Oil Aroma Diffuser oil Set of 2 Rajnigandha Oil & TeaTree Oil -10ML Each']\n"
     ]
    }
   ],
   "source": [
    "for i in range(10):\n",
    "    print(df.iloc[i]['TITLE'].split('|'))"
   ]
  },
  {
   "cell_type": "code",
   "execution_count": 21,
   "id": "93c7b933",
   "metadata": {},
   "outputs": [
    {
     "data": {
      "text/plain": [
       "[\"Marks & Spencer Girls' Pyjama Sets T86_2561C_Navy Mix_9-10Y\"]"
      ]
     },
     "execution_count": 21,
     "metadata": {},
     "output_type": "execute_result"
    }
   ],
   "source": [
    "title"
   ]
  },
  {
   "cell_type": "code",
   "execution_count": 16,
   "id": "08be5ab4",
   "metadata": {},
   "outputs": [],
   "source": [
    "bp = df.iloc[0]['BULLET_POINTS'].split('|')"
   ]
  },
  {
   "cell_type": "code",
   "execution_count": 17,
   "id": "4785190b",
   "metadata": {},
   "outputs": [
    {
     "data": {
      "text/plain": [
       "['[LUXURIOUS & APPEALING: Beautiful custom-made curtains to decorate any home or office ',\n",
       " ' Includes inbuilt tieback to hold the curtain ',\n",
       " ' Completely finished and ready to hang on walls & windows,MATERIAL: Luxurious & versatile fabric with a natural finish ',\n",
       " ' High colour fastness ',\n",
       " ' State-of-the-art digital printing ensures colour consistency and prevents any fading ',\n",
       " ' Eyelets; Cotton Canvas; Width 4.5feet (54inch) ',\n",
       " ' Multicolour ',\n",
       " ' PACKAGE: 2 Room Curtains Eyelets ',\n",
       " ' SIZE: Height 5 feet (60 inch); SET OF 2 PCS,BLACKOUT CURTAIN: 100% opaque & heavy premium cotton canvas fabric ',\n",
       " ' Tight knitted, long life & durable fabric ',\n",
       " ' Printing only on front side with a plain colour back side,MADE TO PERFECTION: Large eyelets at the top to put hanging hooks ',\n",
       " ' Perfectly tailored seams for durability ',\n",
       " ' Refined stitching with a matching thread color,QUALITY ASSURED: Gentle wash with similar colors in cold water ',\n",
       " ' Avoid direct sunlight to prevent fading ',\n",
       " ' Dispatched after MULTIPLE QUALITY CHECKS]']"
      ]
     },
     "execution_count": 17,
     "metadata": {},
     "output_type": "execute_result"
    },
    {
     "data": {
      "text/plain": [
       "['[LUXURIOUS & APPEALING: Beautiful custom-made curtains to decorate any home or office ',\n",
       " ' Includes inbuilt tieback to hold the curtain ',\n",
       " ' Completely finished and ready to hang on walls & windows,MATERIAL: Luxurious & versatile fabric with a natural finish ',\n",
       " ' High colour fastness ',\n",
       " ' State-of-the-art digital printing ensures colour consistency and prevents any fading ',\n",
       " ' Eyelets; Cotton Canvas; Width 4.5feet (54inch) ',\n",
       " ' Multicolour ',\n",
       " ' PACKAGE: 2 Room Curtains Eyelets ',\n",
       " ' SIZE: Height 5 feet (60 inch); SET OF 2 PCS,BLACKOUT CURTAIN: 100% opaque & heavy premium cotton canvas fabric ',\n",
       " ' Tight knitted, long life & durable fabric ',\n",
       " ' Printing only on front side with a plain colour back side,MADE TO PERFECTION: Large eyelets at the top to put hanging hooks ',\n",
       " ' Perfectly tailored seams for durability ',\n",
       " ' Refined stitching with a matching thread color,QUALITY ASSURED: Gentle wash with similar colors in cold water ',\n",
       " ' Avoid direct sunlight to prevent fading ',\n",
       " ' Dispatched after MULTIPLE QUALITY CHECKS]']"
      ]
     },
     "execution_count": 17,
     "metadata": {},
     "output_type": "execute_result"
    }
   ],
   "source": [
    "bp"
   ]
  },
  {
   "cell_type": "code",
   "execution_count": null,
   "id": "a878a41c",
   "metadata": {},
   "outputs": [],
   "source": []
  }
 ],
 "metadata": {
  "kernelspec": {
   "display_name": "Python 3.9 (tensorflow)",
   "language": "python",
   "name": "tensorflow"
  },
  "language_info": {
   "codemirror_mode": {
    "name": "ipython",
    "version": 3
   },
   "file_extension": ".py",
   "mimetype": "text/x-python",
   "name": "python",
   "nbconvert_exporter": "python",
   "pygments_lexer": "ipython3",
   "version": "3.9.10"
  },
  "varInspector": {
   "cols": {
    "lenName": 16,
    "lenType": 16,
    "lenVar": 40
   },
   "kernels_config": {
    "python": {
     "delete_cmd_postfix": "",
     "delete_cmd_prefix": "del ",
     "library": "var_list.py",
     "varRefreshCmd": "print(var_dic_list())"
    },
    "r": {
     "delete_cmd_postfix": ") ",
     "delete_cmd_prefix": "rm(",
     "library": "var_list.r",
     "varRefreshCmd": "cat(var_dic_list()) "
    }
   },
   "types_to_exclude": [
    "module",
    "function",
    "builtin_function_or_method",
    "instance",
    "_Feature"
   ],
   "window_display": false
  }
 },
 "nbformat": 4,
 "nbformat_minor": 5
}
